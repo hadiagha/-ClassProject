{
 "cells": [
  {
   "cell_type": "code",
   "execution_count": 147,
   "metadata": {},
   "outputs": [],
   "source": [
    "\" SGC model using torch geometric with Cora\"\n",
    "\" Node2Vec model using torch geometric with Cora\"\n",
    "import torch\n",
    "import torch.nn as nn\n",
    "from torch_geometric.datasets import Planetoid # The citation network datasets “Cora”, “CiteSeer” and “PubMed” \n",
    "from torch_geometric.nn import SGConv # Import Node2Vec Model\n",
    "from sklearn.manifold import TSNE\n",
    "import matplotlib.pyplot as plt\n",
    "import torch.nn.functional as F\n",
    "\n",
    "import os"
   ]
  },
  {
   "cell_type": "code",
   "execution_count": 148,
   "metadata": {},
   "outputs": [
    {
     "name": "stdout",
     "output_type": "stream",
     "text": [
      "Cora:  Data(x=[2708, 1433], edge_index=[2, 10556], y=[2708], train_mask=[2708], val_mask=[2708], test_mask=[2708])\n",
      " Shape of the original data:  torch.Size([2708, 1433])\n",
      " Shape of the embedding data:  torch.Size([2708, 7])\n",
      " Parameter conv1.lin.weight\n",
      "Shape:  torch.Size([7, 1433])\n",
      " Parameter conv1.lin.bias\n",
      "Shape:  torch.Size([7])\n",
      "Epoch: 001, Train: 0.9714, Val: 0.5880, Test: 0.6160\n",
      "Epoch: 002, Train: 0.9714, Val: 0.5880, Test: 0.6160\n",
      "Epoch: 003, Train: 0.9714, Val: 0.5880, Test: 0.6160\n",
      "Epoch: 004, Train: 0.9714, Val: 0.5880, Test: 0.6160\n",
      "Epoch: 005, Train: 0.9786, Val: 0.5880, Test: 0.6160\n",
      "Epoch: 006, Train: 0.9786, Val: 0.6420, Test: 0.6690\n",
      "Epoch: 007, Train: 0.9643, Val: 0.6420, Test: 0.6690\n",
      "Epoch: 008, Train: 0.9714, Val: 0.6420, Test: 0.6690\n",
      "Epoch: 009, Train: 0.9571, Val: 0.6420, Test: 0.6690\n",
      "Epoch: 010, Train: 0.9714, Val: 0.6420, Test: 0.6690\n",
      "Epoch: 011, Train: 0.9643, Val: 0.6420, Test: 0.6690\n",
      "Epoch: 012, Train: 0.9714, Val: 0.6420, Test: 0.6690\n",
      "Epoch: 013, Train: 0.9714, Val: 0.6420, Test: 0.6690\n",
      "Epoch: 014, Train: 0.9714, Val: 0.6420, Test: 0.6690\n",
      "Epoch: 015, Train: 0.9714, Val: 0.6420, Test: 0.6690\n",
      "Epoch: 016, Train: 0.9786, Val: 0.6420, Test: 0.6690\n",
      "Epoch: 017, Train: 0.9857, Val: 0.6420, Test: 0.6690\n",
      "Epoch: 018, Train: 0.9857, Val: 0.6640, Test: 0.6760\n",
      "Epoch: 019, Train: 0.9786, Val: 0.6640, Test: 0.6760\n",
      "Epoch: 020, Train: 0.9786, Val: 0.6640, Test: 0.6760\n",
      "Epoch: 021, Train: 0.9643, Val: 0.6640, Test: 0.6760\n",
      "Epoch: 022, Train: 0.9643, Val: 0.6640, Test: 0.6760\n",
      "Epoch: 023, Train: 0.9571, Val: 0.6640, Test: 0.6760\n",
      "Epoch: 024, Train: 0.9643, Val: 0.6640, Test: 0.6760\n",
      "Epoch: 025, Train: 0.9571, Val: 0.6640, Test: 0.6760\n",
      "Epoch: 026, Train: 0.9714, Val: 0.6640, Test: 0.6760\n",
      "Epoch: 027, Train: 0.9786, Val: 0.6640, Test: 0.6760\n",
      "Epoch: 028, Train: 0.9786, Val: 0.6640, Test: 0.6760\n",
      "Epoch: 029, Train: 0.9857, Val: 0.6640, Test: 0.6760\n",
      "Epoch: 030, Train: 0.9857, Val: 0.6640, Test: 0.6760\n",
      "Epoch: 031, Train: 0.9786, Val: 0.6640, Test: 0.6760\n",
      "Epoch: 032, Train: 0.9786, Val: 0.6640, Test: 0.6760\n",
      "Epoch: 033, Train: 0.9643, Val: 0.6640, Test: 0.6760\n",
      "Epoch: 034, Train: 0.9786, Val: 0.6640, Test: 0.6760\n",
      "Epoch: 035, Train: 0.9714, Val: 0.6640, Test: 0.6760\n",
      "Epoch: 036, Train: 0.9786, Val: 0.6640, Test: 0.6760\n",
      "Epoch: 037, Train: 0.9714, Val: 0.6640, Test: 0.6760\n",
      "Epoch: 038, Train: 0.9786, Val: 0.6640, Test: 0.6760\n",
      "Epoch: 039, Train: 0.9786, Val: 0.6640, Test: 0.6760\n",
      "Epoch: 040, Train: 0.9786, Val: 0.6640, Test: 0.6760\n",
      "Epoch: 041, Train: 0.9786, Val: 0.6640, Test: 0.6760\n",
      "Epoch: 042, Train: 0.9786, Val: 0.6640, Test: 0.6760\n",
      "Epoch: 043, Train: 0.9857, Val: 0.6640, Test: 0.6760\n",
      "Epoch: 044, Train: 0.9786, Val: 0.6640, Test: 0.6760\n",
      "Epoch: 045, Train: 0.9786, Val: 0.6640, Test: 0.6760\n",
      "Epoch: 046, Train: 0.9714, Val: 0.6640, Test: 0.6760\n",
      "Epoch: 047, Train: 0.9714, Val: 0.6640, Test: 0.6760\n",
      "Epoch: 048, Train: 0.9714, Val: 0.6640, Test: 0.6760\n",
      "Epoch: 049, Train: 0.9786, Val: 0.6640, Test: 0.6760\n",
      "Epoch: 050, Train: 0.9714, Val: 0.6640, Test: 0.6760\n",
      "Epoch: 051, Train: 0.9643, Val: 0.6640, Test: 0.6760\n",
      "Epoch: 052, Train: 0.9714, Val: 0.6640, Test: 0.6760\n",
      "Epoch: 053, Train: 0.9857, Val: 0.6640, Test: 0.6760\n",
      "Epoch: 054, Train: 0.9786, Val: 0.6640, Test: 0.6760\n",
      "Epoch: 055, Train: 0.9714, Val: 0.6640, Test: 0.6760\n",
      "Epoch: 056, Train: 0.9714, Val: 0.6640, Test: 0.6760\n",
      "Epoch: 057, Train: 0.9786, Val: 0.6640, Test: 0.6760\n",
      "Epoch: 058, Train: 0.9786, Val: 0.6640, Test: 0.6760\n",
      "Epoch: 059, Train: 0.9786, Val: 0.6640, Test: 0.6760\n",
      "Epoch: 060, Train: 0.9714, Val: 0.6640, Test: 0.6760\n",
      "Epoch: 061, Train: 0.9714, Val: 0.6640, Test: 0.6760\n",
      "Epoch: 062, Train: 0.9786, Val: 0.6640, Test: 0.6760\n",
      "Epoch: 063, Train: 0.9643, Val: 0.6640, Test: 0.6760\n",
      "Epoch: 064, Train: 0.9714, Val: 0.6640, Test: 0.6760\n",
      "Epoch: 065, Train: 0.9714, Val: 0.6640, Test: 0.6760\n",
      "Epoch: 066, Train: 0.9714, Val: 0.6640, Test: 0.6760\n",
      "Epoch: 067, Train: 0.9786, Val: 0.6640, Test: 0.6760\n",
      "Epoch: 068, Train: 0.9786, Val: 0.6640, Test: 0.6760\n",
      "Epoch: 069, Train: 0.9714, Val: 0.6640, Test: 0.6760\n",
      "Epoch: 070, Train: 0.9643, Val: 0.6640, Test: 0.6760\n",
      "Epoch: 071, Train: 0.9786, Val: 0.6640, Test: 0.6760\n",
      "Epoch: 072, Train: 0.9714, Val: 0.6640, Test: 0.6760\n",
      "Epoch: 073, Train: 0.9714, Val: 0.6640, Test: 0.6760\n",
      "Epoch: 074, Train: 0.9714, Val: 0.6640, Test: 0.6760\n",
      "Epoch: 075, Train: 0.9714, Val: 0.6640, Test: 0.6760\n",
      "Epoch: 076, Train: 0.9857, Val: 0.6640, Test: 0.6760\n",
      "Epoch: 077, Train: 0.9786, Val: 0.6640, Test: 0.6760\n",
      "Epoch: 078, Train: 0.9786, Val: 0.6640, Test: 0.6760\n",
      "Epoch: 079, Train: 0.9786, Val: 0.6640, Test: 0.6760\n",
      "Epoch: 080, Train: 0.9786, Val: 0.6640, Test: 0.6760\n",
      "Epoch: 081, Train: 0.9786, Val: 0.6640, Test: 0.6760\n",
      "Epoch: 082, Train: 0.9714, Val: 0.6640, Test: 0.6760\n",
      "Epoch: 083, Train: 0.9714, Val: 0.6640, Test: 0.6760\n",
      "Epoch: 084, Train: 0.9714, Val: 0.6640, Test: 0.6760\n",
      "Epoch: 085, Train: 0.9786, Val: 0.6640, Test: 0.6760\n",
      "Epoch: 086, Train: 0.9857, Val: 0.6640, Test: 0.6760\n",
      "Epoch: 087, Train: 0.9786, Val: 0.6640, Test: 0.6760\n",
      "Epoch: 088, Train: 0.9786, Val: 0.6640, Test: 0.6760\n",
      "Epoch: 089, Train: 0.9714, Val: 0.6640, Test: 0.6760\n",
      "Epoch: 090, Train: 0.9786, Val: 0.6640, Test: 0.6760\n",
      "Epoch: 091, Train: 0.9786, Val: 0.6640, Test: 0.6760\n",
      "Epoch: 092, Train: 0.9786, Val: 0.6640, Test: 0.6760\n",
      "Epoch: 093, Train: 0.9714, Val: 0.6640, Test: 0.6760\n",
      "Epoch: 094, Train: 0.9714, Val: 0.6640, Test: 0.6760\n",
      "Epoch: 095, Train: 0.9643, Val: 0.6640, Test: 0.6760\n",
      "Epoch: 096, Train: 0.9714, Val: 0.6640, Test: 0.6760\n",
      "Epoch: 097, Train: 0.9643, Val: 0.6640, Test: 0.6760\n",
      "Epoch: 098, Train: 0.9714, Val: 0.6640, Test: 0.6760\n",
      "Epoch: 099, Train: 0.9714, Val: 0.6640, Test: 0.6760\n",
      "Epoch: 100, Train: 0.9714, Val: 0.6640, Test: 0.6760\n"
     ]
    }
   ],
   "source": [
    "\n",
    "\" **************** IMPORT DATA ********************\"\n",
    "path = os.getcwd() # Directory to download dataset\n",
    "dataset_name = \"Cora\"\n",
    "dataset = Planetoid(path, dataset_name) # Download the dataset: “Cora”, “CiteSeer” and “PubMed” \n",
    "data = dataset[0] # Tensor representation of the Cora-Planetoid data\n",
    "print(f'{dataset_name}: ', data)\n",
    "\n",
    "device = 'cuda' if torch.cuda.is_available() else 'cpu'\n",
    "\n",
    "\" **************** CONSTRUCT THE MODEL  ********************\"\n",
    "SGC_model = SGConv(in_channels= data.num_features, # Number of features\n",
    "                   out_channels= dataset.num_classes, # Dimension of embedding\n",
    "                   K = 1, cached =True)\n",
    "\n",
    "\" **************** GET EMBEDDING  ********************\"\n",
    "print(\" Shape of the original data: \", data.x.shape)\n",
    "print(\" Shape of the embedding data: \", SGC_model(data.x,data.edge_index).shape)\n",
    "\n",
    "\" **************** CONSTRUCT THE MODEL FOR CLASSIFICATION  ********************\"\n",
    "class SGCNet(torch.nn.Module):\n",
    "    def __init__(self):\n",
    "        super().__init__()\n",
    "        self.conv1 = SGConv(in_channels= data.num_features, # Number of features\n",
    "                   out_channels= dataset.num_classes, # Dimension of embedding\n",
    "                   K = 1, cached =True)\n",
    "\n",
    "    def forward(self):\n",
    "\n",
    "        x = self.conv1(data.x,  data.edge_index) #Applying convolution to data\n",
    "        #nn.init.kaiming_uniform_(self.conv1.lin.weight, mode='fan_in')\n",
    "        nn.init.xavier_normal_(self.conv1.lin.weight, gain=nn.init.calculate_gain('relu'))\n",
    "        #nn.init.normal_(self.conv1.lin.weight)\n",
    "        \n",
    "        # computation of log softmax\n",
    "        return F.log_softmax(x, dim=1)\n",
    "    \n",
    "device = torch.device('cuda' if torch.cuda.is_available() else 'cpu')\n",
    "SGC_model, data = SGCNet().to(device), data.to(device)\n",
    "optimizer = torch.optim.Adam(SGC_model.parameters(), lr=0.2, weight_decay=0.005)\n",
    "\n",
    "# What are the learning parameters:\n",
    "for i, parameter in SGC_model.named_parameters():\n",
    "    print(\" Parameter {}\".format(i))\n",
    "    print(\"Shape: \",parameter.shape)\n",
    "\n",
    "\" **************** TRAIN FUNCTION ********************\"\n",
    "def train():\n",
    "    SGC_model.train() # Set the model.training to be True\n",
    "    optimizer.zero_grad() # Reset the gradient\n",
    "    predicted_y = SGC_model() # predicted y in log softmax prob\n",
    "    true_y = data.y # True labels\n",
    "    losses = F.nll_loss(predicted_y[data.train_mask], true_y[data.train_mask])\n",
    "    losses.backward()\n",
    "    optimizer.step() # Update the parameters such that is minimized the losses\n",
    "\n",
    "\" **************** TEST FUNCTION ********************\"\n",
    "def test():\n",
    "    SGC_model.eval() # Set the model.training to be False\n",
    "    logits = SGC_model() # Log prob of all data\n",
    "    accs = []\n",
    "    for _, mask in data('train_mask', 'val_mask', 'test_mask'):\n",
    "        pred = logits[mask].max(1)[1] #Transforming log prob to actual labels\n",
    "        acc = pred.eq(data.y[mask]).sum().item() / mask.sum().item()\n",
    "        accs.append(acc)\n",
    "    return accs\n",
    "\n",
    "\" **************** PUTTING IT ALL TOGETHER ********************\"\n",
    "all_test_acc = []\n",
    "best_val_acc = test_acc = 0\n",
    "for epoch in range(1, 101):\n",
    "    train() \n",
    "    train_acc, val_acc, tmp_test_acc = test()\n",
    "    if val_acc > best_val_acc:\n",
    "        best_val_acc = val_acc\n",
    "        test_acc = tmp_test_acc\n",
    "    log = 'Epoch: {:03d}, Train: {:.4f}, Val: {:.4f}, Test: {:.4f}'\n",
    "    all_test_acc.append(test_acc)\n",
    "    print(log.format(epoch, train_acc, best_val_acc, test_acc))"
   ]
  },
  {
   "cell_type": "code",
   "execution_count": 145,
   "metadata": {},
   "outputs": [],
   "source": [
    "#random_init = all_test_acc\n",
    "#kaiming_init = all_test_acc\n",
    "#xavier_init = all_test_acc\n",
    "normalDist_init = all_test_acc"
   ]
  },
  {
   "cell_type": "code",
   "execution_count": 146,
   "metadata": {},
   "outputs": [
    {
     "data": {
      "image/png": "[encoded data removed]",
      "text/plain": [
       "<Figure size 864x504 with 1 Axes>"
      ]
     },
     "metadata": {},
     "output_type": "display_data"
    }
   ],
   "source": [
    "import matplotlib.pyplot as plt\n",
    "plt.style.use('fivethirtyeight')\n",
    "plt.rcParams[\"figure.figsize\"] = (12,7)\n",
    "# plot lines\n",
    "y = range(100)\n",
    "plt.plot(y,random_init, label = \"Random Initialization\")\n",
    "plt.plot(y,kaiming_init, label = \"Kaiming Initialization\")\n",
    "plt.plot(y,xavier_init, label = \"Xavier Initialization\")\n",
    "plt.plot(y,normalDist_init, label = \"Normal Distribution Initialization\")\n",
    "plt.title(f'Accuracy in with different initializations in {dataset_name} dataset')\n",
    "plt.legend()\n",
    "plt.show()"
   ]
  },
  {
   "cell_type": "code",
   "execution_count": 149,
   "metadata": {},
   "outputs": [
    {
     "data": {
      "text/plain": [
       "tensor([[-0.3812,  1.0574,  1.0248,  0.1609,  0.7726],\n",
       "        [-0.2078,  1.0609, -1.1770,  0.3134,  0.1009],\n",
       "        [-1.1498,  0.4806, -1.0977, -0.0766,  0.4554]])"
      ]
     },
     "execution_count": 149,
     "metadata": {},
     "output_type": "execute_result"
    }
   ],
   "source": [
    "w = torch.empty(3, 5)\n",
    "nn.init.xavier_uniform_(w, gain=nn.init.calculate_gain('relu'))"
   ]
  },
  {
   "cell_type": "code",
   "execution_count": 150,
   "metadata": {},
   "outputs": [
    {
     "data": {
      "text/plain": [
       "tensor([[ 0.8935, -0.6276, -0.1506, -0.3007,  0.1609],\n",
       "        [ 0.0547, -0.6514,  0.0101, -0.3736, -1.0049],\n",
       "        [ 0.5508, -0.5097,  0.7747,  0.6475,  0.5635]])"
      ]
     },
     "execution_count": 150,
     "metadata": {},
     "output_type": "execute_result"
    }
   ],
   "source": [
    "w = torch.empty(3, 5)\n",
    "nn.init.kaiming_uniform_(w, mode='fan_in', nonlinearity='relu')"
   ]
  }
 ],
 "metadata": {
  "kernelspec": {
   "display_name": "Python 3.9.12 ('base')",
   "language": "python",
   "name": "python3"
  },
  "language_info": {
   "codemirror_mode": {
    "name": "ipython",
    "version": 3
   },
   "file_extension": ".py",
   "mimetype": "text/x-python",
   "name": "python",
   "nbconvert_exporter": "python",
   "pygments_lexer": "ipython3",
   "version": "3.9.12"
  },
  "orig_nbformat": 4,
  "vscode": {
   "interpreter": {
    "hash": "c99282d8095a255c9b35c6ff8cfd89e8d0dc73d593c77c936f20370d9959c8ce"
   }
  }
 },
 "nbformat": 4,
 "nbformat_minor": 2
}
